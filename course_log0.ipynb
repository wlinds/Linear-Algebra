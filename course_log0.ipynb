{
 "cells": [
  {
   "cell_type": "markdown",
   "metadata": {},
   "source": [
    "### Linear systems of equations\n",
    "- augmented matrix (utökad matris).\n",
    "- Gaussian elimination\n",
    "- reduced row echelon form (=reducerad trappstegsform) (sympy.rref)\n",
    "- pivot columns, bound and free varibles\n",
    "\n",
    "- scipy.linalg.solve"
   ]
  },
  {
   "cell_type": "code",
   "execution_count": 241,
   "metadata": {},
   "outputs": [
    {
     "name": "stdout",
     "output_type": "stream",
     "text": [
      "<class 'numpy.ndarray'> 2 9 (3, 3)\n"
     ]
    },
    {
     "data": {
      "text/plain": [
       "array([[0, 1, 2],\n",
       "       [pi, 4, 5],\n",
       "       [-1, -2, -3]], dtype=object)"
      ]
     },
     "execution_count": 241,
     "metadata": {},
     "output_type": "execute_result"
    }
   ],
   "source": [
    "import numpy as np\n",
    "import sympy as sp\n",
    "\n",
    "x, y, z, pi = sp.symbols('x,y,z, pi')\n",
    "\n",
    "# Two dimensional array\n",
    "a = np.array([[0,1,2],[pi,4,5],[-1,-2,-3]], dtype=object)\n",
    "\n",
    "print(type(a), a.ndim, a.size, a.shape)\n",
    "a\n"
   ]
  },
  {
   "cell_type": "code",
   "execution_count": 242,
   "metadata": {},
   "outputs": [
    {
     "data": {
      "text/latex": [
       "$\\displaystyle \\left[\\begin{matrix}0 & 1 & 2\\\\\\pi & 4 & 5\\\\-1 & -2 & -3\\end{matrix}\\right]$"
      ],
      "text/plain": [
       "Matrix([\n",
       "[ 0,  1,  2],\n",
       "[pi,  4,  5],\n",
       "[-1, -2, -3]])"
      ]
     },
     "execution_count": 242,
     "metadata": {},
     "output_type": "execute_result"
    }
   ],
   "source": [
    "# As sympy matrice\n",
    "sp.Matrix(a)"
   ]
  },
  {
   "cell_type": "code",
   "execution_count": 243,
   "metadata": {},
   "outputs": [
    {
     "name": "stdout",
     "output_type": "stream",
     "text": [
      "a =  6.928203230275509\n",
      "4⋅√3\n"
     ]
    },
    {
     "data": {
      "text/latex": [
       "$\\displaystyle 4 \\sqrt{3}$"
      ],
      "text/plain": [
       "4*sqrt(3)"
      ]
     },
     "execution_count": 243,
     "metadata": {},
     "output_type": "execute_result"
    }
   ],
   "source": [
    "# formats\n",
    "x = 12\n",
    "print('a = ', 2*np.sqrt(x)) # regualar print in IDE\n",
    "sp.pprint(2*sp.sqrt(x)) # prettyprinter module\n",
    "2*sp.sqrt(x) # jupyter notebook output as sympy symbols"
   ]
  },
  {
   "cell_type": "markdown",
   "metadata": {},
   "source": [
    "Sympy matrices are mutable while ndarrays are immutable.\n",
    "\n",
    "numpy.linalg.solve requires A to be square:\n",
    "\n",
    " A * X = B, where A is a square matrix and X and B are rectangular matrices or vectors.\n",
    " \n",
    " Gaussian elimination with row interchanges is used to factor A as A = P * L * U , where\n",
    " - P = permutation matrix\n",
    " - L = unit lower triangular\n",
    " - U = is upper triangular.\n",
    " \n",
    " The factored form of A is then used to solve the above system.\n",
    "\n",
    " ---\n",
    "\n",
    " Let's create a square matrix and do some basic operations:"
   ]
  },
  {
   "cell_type": "code",
   "execution_count": 244,
   "metadata": {},
   "outputs": [
    {
     "data": {
      "text/latex": [
       "$\\displaystyle \\left[\\begin{matrix}-4 & 6 & \\frac{1}{4}\\\\-1 & 6 & \\pi\\\\-3 & 5 & \\frac{1}{4}\\end{matrix}\\right]$"
      ],
      "text/plain": [
       "Matrix([\n",
       "[-4, 6, 1/4],\n",
       "[-1, 6,  pi],\n",
       "[-3, 5, 1/4]])"
      ]
     },
     "execution_count": 244,
     "metadata": {},
     "output_type": "execute_result"
    }
   ],
   "source": [
    "def get_grid():\n",
    "\n",
    "\n",
    "\n",
    "    def get_row():\n",
    "\n",
    "        # randomize key pair\n",
    "        my_pair = np.random.randint([-8,0], [0,8])\n",
    "\n",
    "         # appends random element from pool to end of key pair\n",
    "        pool_of_constants = [pi, sp.Rational(2,3), 0, sp.Rational(1/4)]\n",
    "\n",
    "        return np.append(my_pair, pool_of_constants[np.random.randint(0,4)])\n",
    "\n",
    "    # create matrix\n",
    "    a = np.array(\n",
    "        [get_row(),\n",
    "         get_row(),\n",
    "         get_row()\n",
    "    ])\n",
    "\n",
    "\n",
    "    return a\n",
    "\n",
    "a = get_grid()\n",
    "\n",
    "sp.Matrix(a)"
   ]
  },
  {
   "cell_type": "code",
   "execution_count": 245,
   "metadata": {},
   "outputs": [
    {
     "name": "stdout",
     "output_type": "stream",
     "text": [
      "1/4\n"
     ]
    }
   ],
   "source": [
    "r = sp.Rational(1,4)\n",
    "print(r)"
   ]
  },
  {
   "cell_type": "code",
   "execution_count": 246,
   "metadata": {},
   "outputs": [],
   "source": [
    "# fractions will not convert, issues with float to int type conversions probably"
   ]
  },
  {
   "cell_type": "code",
   "execution_count": 247,
   "metadata": {},
   "outputs": [
    {
     "data": {
      "text/latex": [
       "$\\displaystyle \\left[\\begin{matrix}3 & 2 & -17\\\\7 & 8 & 4\\\\6 & 3 & \\pi\\end{matrix}\\right]$"
      ],
      "text/plain": [
       "Matrix([\n",
       "[3, 2, -17],\n",
       "[7, 8,   4],\n",
       "[6, 3,  pi]])"
      ]
     },
     "execution_count": 247,
     "metadata": {},
     "output_type": "execute_result"
    }
   ],
   "source": [
    "# Create array with NumPy\n",
    "my_matrix = np.array(\n",
    "    [[3,  2,  -17],\n",
    "     [7,  8,    4],\n",
    "     [6,  3,   pi]\n",
    "])\n",
    "\n",
    "# Convert to SymPy matrice formating\n",
    "sp.Matrix(my_matrix)"
   ]
  },
  {
   "cell_type": "code",
   "execution_count": 248,
   "metadata": {},
   "outputs": [
    {
     "data": {
      "text/latex": [
       "$\\displaystyle \\left[\\begin{matrix}3 & 2 & -17\\\\6 & 3 & \\pi\\\\7 & 8 & 4\\end{matrix}\\right]$"
      ],
      "text/plain": [
       "Matrix([\n",
       "[3, 2, -17],\n",
       "[6, 3,  pi],\n",
       "[7, 8,   4]])"
      ]
     },
     "execution_count": 248,
     "metadata": {},
     "output_type": "execute_result"
    }
   ],
   "source": [
    "# Swap row 3 and 2 by reassigning index\n",
    "my_matrix[[2,1]] = my_matrix[[1,2]]\n",
    "\n",
    "sp.Matrix(my_matrix)"
   ]
  },
  {
   "cell_type": "code",
   "execution_count": 249,
   "metadata": {},
   "outputs": [
    {
     "data": {
      "text/latex": [
       "$\\displaystyle \\left[\\begin{matrix}6 & 3 & \\pi\\\\3 & 2 & -17\\\\7 & 8 & 4\\end{matrix}\\right]$"
      ],
      "text/plain": [
       "Matrix([\n",
       "[6, 3,  pi],\n",
       "[3, 2, -17],\n",
       "[7, 8,   4]])"
      ]
     },
     "execution_count": 249,
     "metadata": {},
     "output_type": "execute_result"
    }
   ],
   "source": [
    "min_matris = sp.Matrix(my_matrix)\n",
    "\n",
    "# How to swap with SymPy (swapping back rows)\n",
    "min_matris.row_swap(1,0)\n",
    "\n",
    "min_matris"
   ]
  },
  {
   "cell_type": "code",
   "execution_count": 250,
   "metadata": {},
   "outputs": [
    {
     "data": {
      "text/latex": [
       "$\\displaystyle \\left[\\begin{matrix}3.0 & 1.5 & 0.5 \\pi\\\\3 & 2 & -17\\\\7 & 8 & 4\\end{matrix}\\right]$"
      ],
      "text/plain": [
       "Matrix([\n",
       "[3.0, 1.5, 0.5*pi],\n",
       "[  3,   2,    -17],\n",
       "[  7,   8,      4]])"
      ]
     },
     "execution_count": 250,
     "metadata": {},
     "output_type": "execute_result"
    }
   ],
   "source": [
    "# convert back to NumPy\n",
    "my_matrix = np.array(min_matris)\n",
    "\n",
    "# multiply row 1 by 1/2\n",
    "my_matrix[0] = np.multiply(my_matrix[0],0.5)\n",
    "\n",
    "sp.Matrix(my_matrix)"
   ]
  },
  {
   "cell_type": "code",
   "execution_count": 251,
   "metadata": {},
   "outputs": [
    {
     "data": {
      "text/latex": [
       "$\\displaystyle \\left[\\begin{matrix}1 & -2\\\\0 & 1\\end{matrix}\\right]$"
      ],
      "text/plain": [
       "Matrix([\n",
       "[1, -2],\n",
       "[0,  1]])"
      ]
     },
     "execution_count": 251,
     "metadata": {},
     "output_type": "execute_result"
    }
   ],
   "source": [
    "# Row addition works by multiplying one row in the matrix and then adding it to another row.\n",
    "# For example, in the matrix below, we can multiply row 1 by 4 and add it to row 2:\n",
    "\n",
    "B = np.matrix(\n",
    "    [[1,-2],\n",
    "     [-4,9]])\n",
    "\n",
    "B[1] = B[1]+B[0]*4\n",
    "\n",
    "sp.Matrix(B)"
   ]
  },
  {
   "cell_type": "markdown",
   "metadata": {},
   "source": [
    "---"
   ]
  },
  {
   "cell_type": "code",
   "execution_count": 252,
   "metadata": {},
   "outputs": [
    {
     "name": "stdout",
     "output_type": "stream",
     "text": [
      "[[ 1  4 -7  5]\n",
      " [-8  4  4 -1]\n",
      " [ 2 -4 -8  0]\n",
      " [-7 -7 -2 -1]]\n",
      "Sum = -25\n",
      "Sum along diagonals = -4\n",
      "[[-0.02714165 -0.07633588  0.00042409 -0.05937235]\n",
      " [ 0.00169635  0.12977099  0.09372349 -0.12128923]\n",
      " [-0.00763359 -0.08396947 -0.17175573  0.04580153]\n",
      " [ 0.19338422 -0.20610687 -0.31552163  0.17302799]]\n"
     ]
    }
   ],
   "source": [
    "# with random integers\n",
    "arr3 = np.random.randint(-8,8, size=(4,4))\n",
    "\n",
    "print(arr3)\n",
    "print(f'Sum = {np.sum(arr3)}') # sum\n",
    "print(f'Sum along diagonals = {np.trace(arr3)}')\n",
    "\n",
    "print(np.linalg.inv(arr3))"
   ]
  },
  {
   "cell_type": "code",
   "execution_count": 253,
   "metadata": {},
   "outputs": [
    {
     "data": {
      "text/plain": [
       "array([[-0.02714165, -0.07633588,  0.00042409, -0.05937235],\n",
       "       [ 0.00169635,  0.12977099,  0.09372349, -0.12128923],\n",
       "       [-0.00763359, -0.08396947, -0.17175573,  0.04580153],\n",
       "       [ 0.19338422, -0.20610687, -0.31552163,  0.17302799]])"
      ]
     },
     "execution_count": 253,
     "metadata": {},
     "output_type": "execute_result"
    }
   ],
   "source": [
    "np.linalg.inv(arr3)"
   ]
  },
  {
   "cell_type": "code",
   "execution_count": 254,
   "metadata": {},
   "outputs": [
    {
     "name": "stdout",
     "output_type": "stream",
     "text": [
      "<class 'numpy.ndarray'> 2\n",
      "[[ 0  1 -2]\n",
      " [ 3  4  5]\n",
      " [ 6  7 -8]]\n",
      "\n",
      "<class 'numpy.ndarray'>\n",
      "(3, 3) 2\n"
     ]
    },
    {
     "data": {
      "text/latex": [
       "$\\displaystyle \\left[\\begin{matrix}0 & 1 & -2\\\\3 & 4 & 5\\\\6 & 7 & -8\\end{matrix}\\right]$"
      ],
      "text/plain": [
       "Matrix([\n",
       "[0, 1, -2],\n",
       "[3, 4,  5],\n",
       "[6, 7, -8]])"
      ]
     },
     "execution_count": 254,
     "metadata": {},
     "output_type": "execute_result"
    }
   ],
   "source": [
    "a = np.array([[0,1,-2],[3,4,5],[6,7,-8]])\n",
    "\n",
    "print(type(a),a.ndim)\n",
    "print(a)\n",
    "print()\n",
    "print(type(a))\n",
    "print(a.shape, a.ndim)\n",
    "\n",
    "sp.Matrix(a)"
   ]
  },
  {
   "cell_type": "code",
   "execution_count": 255,
   "metadata": {},
   "outputs": [
    {
     "data": {
      "text/latex": [
       "$\\displaystyle \\left[\\begin{matrix}6 & 3 & 0\\\\7 & 4 & 1\\\\-8 & 5 & -2\\end{matrix}\\right]$"
      ],
      "text/plain": [
       "Matrix([\n",
       "[ 6, 3,  0],\n",
       "[ 7, 4,  1],\n",
       "[-8, 5, -2]])"
      ]
     },
     "execution_count": 255,
     "metadata": {},
     "output_type": "execute_result"
    }
   ],
   "source": [
    "## 2D vector rotation\n",
    "def rotate_matrix(matrix):\n",
    "  transposed_matrix = [[matrix[j][i] for j in range(len(matrix))] for i in range(len(matrix[0]))]\n",
    "  \n",
    "  # reverse the rows of the transposed matrix\n",
    "  return [row[::-1] for row in transposed_matrix]\n",
    "\n",
    "# rotate the matrix\n",
    "a = rotate_matrix(a)\n",
    "\n",
    "a = np.array(a)\n",
    "\n",
    "sp.Matrix(a)"
   ]
  },
  {
   "cell_type": "code",
   "execution_count": 258,
   "metadata": {},
   "outputs": [
    {
     "data": {
      "text/plain": [
       "array([[6, 3, 0],\n",
       "       [7, 4, 1],\n",
       "       [-8, 5, pi]], dtype=object)"
      ]
     },
     "execution_count": 258,
     "metadata": {},
     "output_type": "execute_result"
    }
   ],
   "source": [
    "a = np.array([[ 6,  3,  0],\n",
    "       [ 7,  4,  1],\n",
    "       [-8,  5, pi]])\n",
    "\n",
    "a"
   ]
  },
  {
   "cell_type": "code",
   "execution_count": null,
   "metadata": {},
   "outputs": [],
   "source": [
    "def get_rotation_matrix(theta, axis):\n",
    "    \"\"\"\n",
    "    Returns a 3x3 rotation matrix with the given theta and axis\n",
    "    \"\"\"\n",
    "\n",
    "    axis = np.array(axis)\n",
    "    axis = axis / np.linalg.norm(axis)\n",
    "    a = np.cos(theta / 2)\n",
    "    b, c, d = -axis * np.sin(theta / 2)\n",
    "    aa, bb, cc, dd = a * a, b * b, c * c, d * d\n",
    "    bc, ad, ac, ab, bd, cd = b * c, a * d, a * c, a * b, b * d, c * d\n",
    "    return np.array([[aa + bb - cc - dd, 2 * (bc + ad), 2 * (bd - ac)],\n",
    "                     [2 * (bc - ad), aa + cc - bb - dd, 2 * (cd + ab)]])"
   ]
  }
 ],
 "metadata": {
  "kernelspec": {
   "display_name": "Python 3",
   "language": "python",
   "name": "python3"
  },
  "language_info": {
   "codemirror_mode": {
    "name": "ipython",
    "version": 3
   },
   "file_extension": ".py",
   "mimetype": "text/x-python",
   "name": "python",
   "nbconvert_exporter": "python",
   "pygments_lexer": "ipython3",
   "version": "3.9.13 (main, May 24 2022, 21:28:44) \n[Clang 13.0.0 (clang-1300.0.29.30)]"
  },
  "orig_nbformat": 4,
  "vscode": {
   "interpreter": {
    "hash": "aee8b7b246df8f9039afb4144a1f6fd8d2ca17a180786b69acc140d282b71a49"
   }
  }
 },
 "nbformat": 4,
 "nbformat_minor": 2
}
