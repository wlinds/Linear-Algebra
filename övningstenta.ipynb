{
 "cells": [
  {
   "attachments": {},
   "cell_type": "markdown",
   "metadata": {},
   "source": [
    "$x-2y+z=1$\n",
    "\n",
    "$2x-6y+6z=4$\n",
    "\n",
    "$-3x+5y-z=-2$"
   ]
  },
  {
   "cell_type": "code",
   "execution_count": 31,
   "metadata": {},
   "outputs": [],
   "source": [
    "import numpy as np\n",
    "\n",
    "a = np.matrix([[1, -2, 1], [2, -6, 6], [-3, 5, -1]])\n",
    "\n",
    "b = np.array([1, 4, -2])\n",
    "\n",
    "# No solution / not linearly independent\n"
   ]
  },
  {
   "cell_type": "code",
   "execution_count": 26,
   "metadata": {},
   "outputs": [
    {
     "name": "stdout",
     "output_type": "stream",
     "text": [
      "x = 0.5, y = -0.0, z = 0.5000000000000001\n"
     ]
    }
   ],
   "source": [
    "# Change the value of y in equation 3 from 5 to -4\n",
    "a[2, 1] = -4\n",
    "\n",
    "x, y, z = np.linalg.solve(a, b)\n",
    "\n",
    "# Print the solutions\n",
    "print(f\"x = {x}, y = {y}, z = {z}\")"
   ]
  },
  {
   "cell_type": "code",
   "execution_count": 30,
   "metadata": {},
   "outputs": [
    {
     "name": "stdout",
     "output_type": "stream",
     "text": [
      "[ 0.07142857 -0.28571429  0.35714286]\n"
     ]
    }
   ],
   "source": [
    "a = np.matrix([[1, -2, 1], [2, -6, 6], [-3, 5, -1]])\n",
    "b = np.array([1, 4, -2])\n",
    "\n",
    "# Find the least-squares solution to the system of equations\n",
    "x, residuals, rank, singular_values = np.linalg.lstsq(a, b, rcond=None)\n",
    "\n",
    "print(x)"
   ]
  }
 ],
 "metadata": {
  "kernelspec": {
   "display_name": "Linear-Algebra-pe6oVe-5",
   "language": "python",
   "name": "python3"
  },
  "language_info": {
   "codemirror_mode": {
    "name": "ipython",
    "version": 3
   },
   "file_extension": ".py",
   "mimetype": "text/x-python",
   "name": "python",
   "nbconvert_exporter": "python",
   "pygments_lexer": "ipython3",
   "version": "3.9.13"
  },
  "orig_nbformat": 4,
  "vscode": {
   "interpreter": {
    "hash": "0b080f3f090e107761d748933b73efb8ebd8b73fe30be312d896cdc05cffc17f"
   }
  }
 },
 "nbformat": 4,
 "nbformat_minor": 2
}
