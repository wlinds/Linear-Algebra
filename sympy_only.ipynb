{
 "cells": [
  {
   "attachments": {},
   "cell_type": "markdown",
   "metadata": {},
   "source": [
    "In the SymPy library, the ```doit()``` method is a way to evaluate the results of certain operations, such as simplifications or substitutions, on symbolic expressions.\n",
    "\n",
    "$4*x + 6*y - 2*x$ is an example of a symbolic expression:"
   ]
  },
  {
   "cell_type": "code",
   "execution_count": 37,
   "metadata": {},
   "outputs": [
    {
     "name": "stdout",
     "output_type": "stream",
     "text": [
      "<class 'sympy.core.add.Add'>\n",
      "2⋅x + 6⋅y\n"
     ]
    },
    {
     "data": {
      "text/latex": [
       "$\\displaystyle 2 x + 6 y$"
      ],
      "text/plain": [
       "2*x + 6*y"
      ]
     },
     "execution_count": 37,
     "metadata": {},
     "output_type": "execute_result"
    }
   ],
   "source": [
    "from sympy import *\n",
    "\n",
    "x, y = symbols('x y')\n",
    "expr = 4*x + 6*y - 2*x\n",
    "\n",
    "print(type(expr))\n",
    "pprint(expr)\n",
    "expr"
   ]
  },
  {
   "attachments": {},
   "cell_type": "markdown",
   "metadata": {},
   "source": [
    "Default evaluation simplifies.\n",
    "\n",
    "---"
   ]
  },
  {
   "cell_type": "code",
   "execution_count": 38,
   "metadata": {},
   "outputs": [
    {
     "data": {
      "text/latex": [
       "$\\displaystyle 2 x + 63.0$"
      ],
      "text/plain": [
       "2*x + 63.0"
      ]
     },
     "execution_count": 38,
     "metadata": {},
     "output_type": "execute_result"
    }
   ],
   "source": [
    "# substitute all instances of variable y\n",
    "substituted_y = expr.subs(y, 10.5)\n",
    "substituted_y"
   ]
  },
  {
   "cell_type": "code",
   "execution_count": 39,
   "metadata": {},
   "outputs": [
    {
     "data": {
      "text/latex": [
       "$\\displaystyle 69.0$"
      ],
      "text/plain": [
       "69.0000000000000"
      ]
     },
     "execution_count": 39,
     "metadata": {},
     "output_type": "execute_result"
    }
   ],
   "source": [
    "# substitute all instances of variable x\n",
    "substituted_expr = substituted_y.subs(x, 3)\n",
    "substituted_expr"
   ]
  },
  {
   "cell_type": "code",
   "execution_count": 40,
   "metadata": {},
   "outputs": [
    {
     "data": {
      "text/latex": [
       "$\\displaystyle 2 x + 6 y$"
      ],
      "text/plain": [
       "2*x + 6*y"
      ]
     },
     "execution_count": 40,
     "metadata": {},
     "output_type": "execute_result"
    }
   ],
   "source": [
    "# return simplified <=> same as default\n",
    "simplified_expr = expr.simplify()\n",
    "simplified_expr"
   ]
  },
  {
   "cell_type": "code",
   "execution_count": 41,
   "metadata": {},
   "outputs": [
    {
     "data": {
      "text/latex": [
       "$\\displaystyle 2 \\int x\\, dx$"
      ],
      "text/plain": [
       "2*Integral(x, x)"
      ]
     },
     "execution_count": 41,
     "metadata": {},
     "output_type": "execute_result"
    }
   ],
   "source": [
    "# doit()\n",
    "# evaluate objects that are not evaluated by default like limits, integrals, sums and products\n",
    "\n",
    "expr2 = 2 * Integral(x, x)\n",
    "expr2"
   ]
  },
  {
   "cell_type": "code",
   "execution_count": 42,
   "metadata": {},
   "outputs": [
    {
     "data": {
      "text/latex": [
       "$\\displaystyle x^{2}$"
      ],
      "text/plain": [
       "x**2"
      ]
     },
     "execution_count": 42,
     "metadata": {},
     "output_type": "execute_result"
    }
   ],
   "source": [
    "expr2.simplify()"
   ]
  },
  {
   "cell_type": "code",
   "execution_count": 43,
   "metadata": {},
   "outputs": [
    {
     "data": {
      "text/latex": [
       "$\\displaystyle 2 \\int\\limits^{10.5} x\\, dx$"
      ],
      "text/plain": [
       "2*Integral(x, (x, 10.5))"
      ]
     },
     "execution_count": 43,
     "metadata": {},
     "output_type": "execute_result"
    }
   ],
   "source": [
    "# substitute all instances of variable y\n",
    "sub_x = expr2.subs(x, 10.5)\n",
    "sub_x"
   ]
  },
  {
   "cell_type": "code",
   "execution_count": 44,
   "metadata": {},
   "outputs": [
    {
     "data": {
      "text/latex": [
       "$\\displaystyle 110.25$"
      ],
      "text/plain": [
       "110.250000000000"
      ]
     },
     "execution_count": 44,
     "metadata": {},
     "output_type": "execute_result"
    }
   ],
   "source": [
    "sub_x.simplify()"
   ]
  },
  {
   "cell_type": "code",
   "execution_count": 45,
   "metadata": {},
   "outputs": [
    {
     "data": {
      "text/latex": [
       "$\\displaystyle 110.25$"
      ],
      "text/plain": [
       "110.250000000000"
      ]
     },
     "execution_count": 45,
     "metadata": {},
     "output_type": "execute_result"
    }
   ],
   "source": [
    "sub_x.doit()"
   ]
  },
  {
   "attachments": {},
   "cell_type": "markdown",
   "metadata": {},
   "source": [
    "```simplify()``` and ```doit()``` methods are similar, both methods can be called on a symbolic expression to perform some operation on the expression, but they have different purposes and use cases.\n",
    "\n",
    "```simplify()``` is used to simplify a symbolic expression by applying various algebraic identities and rules to transform it into a simpler form. \n",
    "\n",
    "```doit()``` is used to evaluate the result of an operation that has been applied to a symbolic expression."
   ]
  },
  {
   "cell_type": "code",
   "execution_count": 58,
   "metadata": {},
   "outputs": [
    {
     "data": {
      "text/latex": [
       "$\\displaystyle \\left(x + y\\right)^{3}$"
      ],
      "text/plain": [
       "(x + y)**3"
      ]
     },
     "execution_count": 58,
     "metadata": {},
     "output_type": "execute_result"
    }
   ],
   "source": [
    "x, y, z = symbols('x y z')\n",
    "\n",
    "expr3 = (x + y)**3\n",
    "\n",
    "# simplify the expression\n",
    "simplified_expr = simplify(expr3)\n",
    "\n",
    "# substitute values for the symbols\n",
    "substituted_expr = simplified_expr.subs({x: 2, y: 1, z: 3})\n",
    "\n",
    "# evaluate the result of the substitution\n",
    "result = substituted_expr.doit()\n",
    "\n",
    "\n",
    "simplified_expr"
   ]
  },
  {
   "cell_type": "code",
   "execution_count": 59,
   "metadata": {},
   "outputs": [
    {
     "data": {
      "text/latex": [
       "$\\displaystyle 27$"
      ],
      "text/plain": [
       "27"
      ]
     },
     "execution_count": 59,
     "metadata": {},
     "output_type": "execute_result"
    }
   ],
   "source": [
    "result"
   ]
  }
 ],
 "metadata": {
  "kernelspec": {
   "display_name": "Linear-Algebra-pe6oVe-5",
   "language": "python",
   "name": "python3"
  },
  "language_info": {
   "codemirror_mode": {
    "name": "ipython",
    "version": 3
   },
   "file_extension": ".py",
   "mimetype": "text/x-python",
   "name": "python",
   "nbconvert_exporter": "python",
   "pygments_lexer": "ipython3",
   "version": "3.9.13"
  },
  "orig_nbformat": 4,
  "vscode": {
   "interpreter": {
    "hash": "0b080f3f090e107761d748933b73efb8ebd8b73fe30be312d896cdc05cffc17f"
   }
  }
 },
 "nbformat": 4,
 "nbformat_minor": 2
}
