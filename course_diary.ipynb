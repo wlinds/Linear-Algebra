{
 "cells": [
  {
   "cell_type": "markdown",
   "metadata": {},
   "source": [
    "### Linear systems of equations\n",
    "- augmented matrix (utökad matris).\n",
    "- Gaussian elimination\n",
    "- reduced row echelon form (reducerad trappstegsform)\n",
    "- pivot columns, bound and free varibles\n",
    "\n",
    "- sympy.rref\n",
    "- scipy.linalg.solve"
   ]
  },
  {
   "cell_type": "code",
   "execution_count": 67,
   "metadata": {},
   "outputs": [
    {
     "name": "stdout",
     "output_type": "stream",
     "text": [
      "<class 'numpy.ndarray'> 3\n"
     ]
    },
    {
     "data": {
      "text/plain": [
       "array([[[ 0,  1,  2],\n",
       "        [ 3,  4,  5],\n",
       "        [ 6,  7,  8]],\n",
       "\n",
       "       [[-1, -2, -3],\n",
       "        [-4, -5, -6],\n",
       "        [-7, -8, -9]],\n",
       "\n",
       "       [[ 1,  2,  3],\n",
       "        [ 4,  5,  6],\n",
       "        [ 7,  8,  9]]])"
      ]
     },
     "execution_count": 67,
     "metadata": {},
     "output_type": "execute_result"
    }
   ],
   "source": [
    "import numpy as np\n",
    "\n",
    "# Three dimensional array\n",
    "\n",
    "a = np.array([[[0,1,2],[3,4,5],[6,7,8]],\n",
    "              [[-1,-2,-3],[-4,-5,-6],[-7,-8,-9]],\n",
    "              [[1,2,3],[4,5,6],[7,8,9]]])\n",
    "\n",
    "print(type(a),a.ndim)\n",
    "a"
   ]
  },
  {
   "cell_type": "code",
   "execution_count": 78,
   "metadata": {},
   "outputs": [
    {
     "name": "stdout",
     "output_type": "stream",
     "text": [
      "<class 'numpy.ndarray'> 2 27 (3, 9)\n"
     ]
    },
    {
     "data": {
      "text/plain": [
       "array([[ 0,  1,  2,  3,  4,  5,  6,  7,  8],\n",
       "       [-1, -2, -3, -4, -5, -6, -7, -8, -9],\n",
       "       [ 1,  2,  3,  4,  5,  6,  7,  8,  9]])"
      ]
     },
     "execution_count": 78,
     "metadata": {},
     "output_type": "execute_result"
    }
   ],
   "source": [
    "# Convert 3D array to 2D\n",
    "a2d = np.reshape(a, (3,9))\n",
    "\n",
    "print(type(a2d), a2d.ndim, a2d.size, a2d.shape)\n",
    "a2d"
   ]
  },
  {
   "cell_type": "markdown",
   "metadata": {},
   "source": [
    "ndarrays are immutable, as such we cannot remove elements, however we can create new arrays\n",
    "\n",
    "numpy.linalg.solve requires A to be square:\n",
    "\n",
    " A * X = B, where A is a square matrix and X and B are rectangular matrices or vectors.\n",
    " \n",
    " Gaussian elimination with row interchanges is used to factor A as A = P * L * U , where\n",
    " - P = permutation matrix\n",
    " - L = unit lower triangular\n",
    " - U = is upper triangular.\n",
    " \n",
    " The factored form of A is then used to solve the above system.\n",
    "\n",
    " ---\n",
    "\n",
    " Let's create a square matrix and do some basic operations:"
   ]
  },
  {
   "cell_type": "code",
   "execution_count": 148,
   "metadata": {},
   "outputs": [
    {
     "data": {
      "text/plain": [
       "matrix([[  3.        ,   2.        , -17.        ],\n",
       "        [  7.        ,   8.        ,   4.        ],\n",
       "        [  6.        ,   3.        ,   3.14159265]])"
      ]
     },
     "execution_count": 148,
     "metadata": {},
     "output_type": "execute_result"
    }
   ],
   "source": [
    "from math import pi\n",
    "\n",
    "my_matrix = np.matrix(\n",
    "    [[3,  2,  -17],\n",
    "     [7,  8,    4],\n",
    "     [6,  3,   pi]\n",
    "])\n",
    "\n",
    "my_matrix"
   ]
  },
  {
   "cell_type": "code",
   "execution_count": 149,
   "metadata": {},
   "outputs": [
    {
     "data": {
      "text/plain": [
       "matrix([[  3.        ,   2.        , -17.        ],\n",
       "        [  6.        ,   3.        ,   3.14159265],\n",
       "        [  7.        ,   8.        ,   4.        ]])"
      ]
     },
     "execution_count": 149,
     "metadata": {},
     "output_type": "execute_result"
    }
   ],
   "source": [
    "# swap rows by reassigning index\n",
    "my_matrix[[2,1]] = my_matrix[[1,2]]\n",
    "\n",
    "my_matrix"
   ]
  },
  {
   "cell_type": "code",
   "execution_count": 150,
   "metadata": {},
   "outputs": [
    {
     "data": {
      "text/plain": [
       "matrix([[  3.        ,   2.        , -17.        ],\n",
       "        [  6.        ,   3.        ,   3.14159265],\n",
       "        [  3.5       ,   4.        ,   2.        ]])"
      ]
     },
     "execution_count": 150,
     "metadata": {},
     "output_type": "execute_result"
    }
   ],
   "source": [
    "# multiply row 3 by 1/2\n",
    "my_matrix[2] = np.multiply(my_matrix[2],0.5)\n",
    "\n",
    "my_matrix"
   ]
  },
  {
   "cell_type": "code",
   "execution_count": 158,
   "metadata": {},
   "outputs": [
    {
     "data": {
      "text/plain": [
       "matrix([[ 1, -2],\n",
       "        [ 0,  1]])"
      ]
     },
     "execution_count": 158,
     "metadata": {},
     "output_type": "execute_result"
    }
   ],
   "source": [
    "# Row addition works by multiplying one row in the matrix and then adding it to another row.\n",
    "# For example, in the matrix below, we can multiply row 1 by 4 and add it to row 2:\n",
    "\n",
    "B = np.matrix(\n",
    "    [[1,-2],\n",
    "     [-4,9]])\n",
    "\n",
    "B[1] = B[1]+B[0]*4\n",
    "\n",
    "B"
   ]
  },
  {
   "cell_type": "markdown",
   "metadata": {},
   "source": [
    "---"
   ]
  },
  {
   "cell_type": "code",
   "execution_count": 107,
   "metadata": {},
   "outputs": [
    {
     "name": "stdout",
     "output_type": "stream",
     "text": [
      "[[-1 -3  7  3]\n",
      " [ 0  4 -7  1]\n",
      " [ 3  0 -6 -7]\n",
      " [ 0 -6  3 -8]]\n",
      "Sum = -17\n",
      "Sum along diagonals = -11\n",
      "[[ 0.36734694 -0.14285714  0.45578231 -0.27891156]\n",
      " [-1.08163265 -0.85714286 -0.36054422 -0.19727891]\n",
      " [-0.53061224 -0.57142857 -0.17687075 -0.11564626]\n",
      " [ 0.6122449   0.42857143  0.20408163 -0.02040816]]\n"
     ]
    }
   ],
   "source": [
    "# with random integers\n",
    "arr3 = np.random.randint(-8,8, size=(4,4))\n",
    "\n",
    "print(arr3)\n",
    "print(f'Sum = {np.sum(arr3)}') # sum\n",
    "print(f'Sum along diagonals = {np.trace(arr3)}')\n",
    "\n",
    "print(np.linalg.inv(arr3))"
   ]
  },
  {
   "cell_type": "code",
   "execution_count": 97,
   "metadata": {},
   "outputs": [
    {
     "data": {
      "text/plain": [
       "array([[ 1.03932584, -0.50561798, -0.88202247, -0.08988764],\n",
       "       [ 0.0252809 , -0.03932584,  0.0758427 , -0.12921348],\n",
       "       [ 0.25842697, -0.17977528, -0.2247191 ,  0.12359551],\n",
       "       [ 1.06741573, -0.43820225, -0.79775281, -0.01123596]])"
      ]
     },
     "execution_count": 97,
     "metadata": {},
     "output_type": "execute_result"
    }
   ],
   "source": [
    "np.linalg.inv(arr3)"
   ]
  },
  {
   "cell_type": "code",
   "execution_count": 110,
   "metadata": {},
   "outputs": [
    {
     "name": "stdout",
     "output_type": "stream",
     "text": [
      "[[1 2 3]]\n",
      "\n",
      "<class 'numpy.matrix'>\n",
      "(1, 3) 2\n"
     ]
    }
   ],
   "source": [
    "a = np.matrix([1, 2, 3])\n",
    "\n",
    "print(a)\n",
    "print()\n",
    "print(type(a))\n",
    "print(a.shape, a.ndim)"
   ]
  },
  {
   "cell_type": "code",
   "execution_count": 6,
   "metadata": {},
   "outputs": [],
   "source": [
    "def get_rotation_matrix(theta, axis):\n",
    "    \"\"\"\n",
    "    Returns a 3x3 rotation matrix with the given theta and axis\n",
    "    \"\"\"\n",
    "\n",
    "    axis = np.array(axis)\n",
    "    axis = axis / np.linalg.norm(axis)\n",
    "    a = np.cos(theta / 2)\n",
    "    b, c, d = -axis * np.sin(theta / 2)\n",
    "    aa, bb, cc, dd = a * a, b * b, c * c, d * d\n",
    "    bc, ad, ac, ab, bd, cd = b * c, a * d, a * c, a * b, b * d, c * d\n",
    "    return np.array([[aa + bb - cc - dd, 2 * (bc + ad), 2 * (bd - ac)],\n",
    "                     [2 * (bc - ad), aa + cc - bb - dd, 2 * (cd + ab)]])"
   ]
  },
  {
   "cell_type": "code",
   "execution_count": 13,
   "metadata": {},
   "outputs": [
    {
     "data": {
      "text/plain": [
       "array([[[[[ 0.54030231, -0.41614684, -0.9899925 ],\n",
       "          [-0.65364362,  0.28366219,  0.96017029],\n",
       "          [ 0.75390225, -0.14550003, -0.91113026]],\n",
       "\n",
       "         [[ 0.54030231, -0.41614684, -0.9899925 ],\n",
       "          [-0.65364362,  0.28366219,  0.96017029],\n",
       "          [ 0.75390225, -0.14550003, -0.91113026]],\n",
       "\n",
       "         [[ 0.54030231, -0.41614684, -0.9899925 ],\n",
       "          [-0.65364362,  0.28366219,  0.96017029],\n",
       "          [ 0.75390225, -0.14550003, -0.91113026]]],\n",
       "\n",
       "\n",
       "        [[[-0.38177329,  0.50684941,  1.84887249],\n",
       "          [ 2.41044612,  1.67526209,  0.31924521],\n",
       "          [-0.41088885,  0.15614179,  1.49901178]],\n",
       "\n",
       "         [[-0.38177329,  0.50684941,  1.84887249],\n",
       "          [ 2.41044612,  1.67526209,  0.31924521],\n",
       "          [-0.41088885,  0.15614179,  1.49901178]],\n",
       "\n",
       "         [[-0.38177329,  0.50684941,  1.84887249],\n",
       "          [ 2.41044612,  1.67526209,  0.31924521],\n",
       "          [-0.41088885,  0.15614179,  1.49901178]]],\n",
       "\n",
       "\n",
       "        [[[ 1.30116868,  2.32544426,  2.1311125 ],\n",
       "          [ 0.89684113, -0.24258646, -0.23958578],\n",
       "          [ 0.90308434,  2.13485828,  2.32324875]],\n",
       "\n",
       "         [[ 1.30116868,  2.32544426,  2.1311125 ],\n",
       "          [ 0.89684113, -0.24258646, -0.23958578],\n",
       "          [ 0.90308434,  2.13485828,  2.32324875]],\n",
       "\n",
       "         [[ 1.30116868,  2.32544426,  2.1311125 ],\n",
       "          [ 0.89684113, -0.24258646, -0.23958578],\n",
       "          [ 0.90308434,  2.13485828,  2.32324875]]]],\n",
       "\n",
       "\n",
       "\n",
       "       [[[[ 1.30116868,  2.32544426,  2.1311125 ],\n",
       "          [ 0.89684113, -0.24258646, -0.23958578],\n",
       "          [ 0.90308434,  2.13485828,  2.32324875]],\n",
       "\n",
       "         [[ 1.30116868,  2.32544426,  2.1311125 ],\n",
       "          [ 0.89684113, -0.24258646, -0.23958578],\n",
       "          [ 0.90308434,  2.13485828,  2.32324875]],\n",
       "\n",
       "         [[ 1.30116868,  2.32544426,  2.1311125 ],\n",
       "          [ 0.89684113, -0.24258646, -0.23958578],\n",
       "          [ 0.90308434,  2.13485828,  2.32324875]]],\n",
       "\n",
       "\n",
       "        [[[ 0.54030231, -0.41614684, -0.9899925 ],\n",
       "          [-0.65364362,  0.28366219,  0.96017029],\n",
       "          [ 0.75390225, -0.14550003, -0.91113026]],\n",
       "\n",
       "         [[ 0.54030231, -0.41614684, -0.9899925 ],\n",
       "          [-0.65364362,  0.28366219,  0.96017029],\n",
       "          [ 0.75390225, -0.14550003, -0.91113026]],\n",
       "\n",
       "         [[ 0.54030231, -0.41614684, -0.9899925 ],\n",
       "          [-0.65364362,  0.28366219,  0.96017029],\n",
       "          [ 0.75390225, -0.14550003, -0.91113026]]],\n",
       "\n",
       "\n",
       "        [[[-0.38177329,  0.50684941,  1.84887249],\n",
       "          [ 2.41044612,  1.67526209,  0.31924521],\n",
       "          [-0.41088885,  0.15614179,  1.49901178]],\n",
       "\n",
       "         [[-0.38177329,  0.50684941,  1.84887249],\n",
       "          [ 2.41044612,  1.67526209,  0.31924521],\n",
       "          [-0.41088885,  0.15614179,  1.49901178]],\n",
       "\n",
       "         [[-0.38177329,  0.50684941,  1.84887249],\n",
       "          [ 2.41044612,  1.67526209,  0.31924521],\n",
       "          [-0.41088885,  0.15614179,  1.49901178]]]]])"
      ]
     },
     "execution_count": 13,
     "metadata": {},
     "output_type": "execute_result"
    }
   ],
   "source": [
    "get_rotation_matrix(a,1)"
   ]
  }
 ],
 "metadata": {
  "kernelspec": {
   "display_name": "Python 3.9.13 64-bit",
   "language": "python",
   "name": "python3"
  },
  "language_info": {
   "codemirror_mode": {
    "name": "ipython",
    "version": 3
   },
   "file_extension": ".py",
   "mimetype": "text/x-python",
   "name": "python",
   "nbconvert_exporter": "python",
   "pygments_lexer": "ipython3",
   "version": "3.9.13"
  },
  "orig_nbformat": 4,
  "vscode": {
   "interpreter": {
    "hash": "aee8b7b246df8f9039afb4144a1f6fd8d2ca17a180786b69acc140d282b71a49"
   }
  }
 },
 "nbformat": 4,
 "nbformat_minor": 2
}
