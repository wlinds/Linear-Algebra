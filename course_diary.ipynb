{
 "cells": [
  {
   "cell_type": "markdown",
   "metadata": {},
   "source": [
    "### Linear systems of equations\n",
    "- augmented matrix (utökad matris).\n",
    "- Gaussian elimination\n",
    "- reduced row echelon form (=reducerad trappstegsform) (sympy.rref)\n",
    "- pivot columns, bound and free varibles\n",
    "\n",
    "- scipy.linalg.solve"
   ]
  },
  {
   "cell_type": "code",
   "execution_count": 179,
   "metadata": {},
   "outputs": [
    {
     "name": "stdout",
     "output_type": "stream",
     "text": [
      "<class 'numpy.ndarray'> 2 9 (3, 3)\n"
     ]
    },
    {
     "data": {
      "text/latex": [
       "$\\displaystyle \\left[\\begin{matrix}0 & 1 & 2\\\\\\pi & 4 & 5\\\\-1 & -2 & -3\\end{matrix}\\right]$"
      ],
      "text/plain": [
       "Matrix([\n",
       "[ 0,  1,  2],\n",
       "[pi,  4,  5],\n",
       "[-1, -2, -3]])"
      ]
     },
     "execution_count": 179,
     "metadata": {},
     "output_type": "execute_result"
    }
   ],
   "source": [
    "import numpy as np\n",
    "import sympy as sp\n",
    "\n",
    "pi_symbol = np.pi\n",
    "\n",
    "x, y, z, pi = sympy.symbols('x,y,z, pi')\n",
    "\n",
    "# Two dimensional array\n",
    "a = np.array([[0,1,2],[pi,4,5],[-1,-2,-3]], dtype=object)\n",
    "\n",
    "print(type(a), a.ndim, a.size, a.shape)\n",
    "\n",
    "# sp.pprint(sp.Matrix(a))\n",
    "\n",
    "sp.Matrix(a)"
   ]
  },
  {
   "cell_type": "code",
   "execution_count": 180,
   "metadata": {},
   "outputs": [
    {
     "data": {
      "text/plain": [
       "sympy.matrices.dense.MutableDenseMatrix"
      ]
     },
     "execution_count": 180,
     "metadata": {},
     "output_type": "execute_result"
    }
   ],
   "source": [
    "# Convert 3D array to 2D\n",
    "a2d = np.reshape(a, (3,3))\n",
    "\n",
    "type(sp.Matrix(a))\n"
   ]
  },
  {
   "cell_type": "markdown",
   "metadata": {},
   "source": [
    "Sympy matrices are mutable while ndarrays are immutable.\n",
    "\n",
    "numpy.linalg.solve requires A to be square:\n",
    "\n",
    " A * X = B, where A is a square matrix and X and B are rectangular matrices or vectors.\n",
    " \n",
    " Gaussian elimination with row interchanges is used to factor A as A = P * L * U , where\n",
    " - P = permutation matrix\n",
    " - L = unit lower triangular\n",
    " - U = is upper triangular.\n",
    " \n",
    " The factored form of A is then used to solve the above system.\n",
    "\n",
    " ---\n",
    "\n",
    " Let's create a square matrix and do some basic operations:"
   ]
  },
  {
   "cell_type": "code",
   "execution_count": 181,
   "metadata": {},
   "outputs": [
    {
     "data": {
      "text/latex": [
       "$\\displaystyle \\left[\\begin{matrix}3 & 2 & -17\\\\7 & 8 & 4\\\\6 & 3 & \\pi\\end{matrix}\\right]$"
      ],
      "text/plain": [
       "Matrix([\n",
       "[3, 2, -17],\n",
       "[7, 8,   4],\n",
       "[6, 3,  pi]])"
      ]
     },
     "execution_count": 181,
     "metadata": {},
     "output_type": "execute_result"
    }
   ],
   "source": [
    "# Create array with NumPy\n",
    "my_matrix = np.array(\n",
    "    [[3,  2,  -17],\n",
    "     [7,  8,    4],\n",
    "     [6,  3,   pi]\n",
    "])\n",
    "\n",
    "# Convert to SymPy matrice formating (for notation)\n",
    "sp.Matrix(my_matrix)"
   ]
  },
  {
   "cell_type": "code",
   "execution_count": 182,
   "metadata": {},
   "outputs": [
    {
     "data": {
      "text/plain": [
       "array([[3, 2, -17],\n",
       "       [6, 3, pi],\n",
       "       [7, 8, 4]], dtype=object)"
      ]
     },
     "execution_count": 182,
     "metadata": {},
     "output_type": "execute_result"
    }
   ],
   "source": [
    "# Swap row 3 and 2 by reassigning index\n",
    "my_matrix[[2,1]] = my_matrix[[1,2]]\n",
    "\n",
    "# If we print without SymPy it looks like this\n",
    "my_matrix"
   ]
  },
  {
   "cell_type": "code",
   "execution_count": 183,
   "metadata": {},
   "outputs": [
    {
     "data": {
      "text/latex": [
       "$\\displaystyle \\left[\\begin{matrix}6 & 3 & \\pi\\\\3 & 2 & -17\\\\7 & 8 & 4\\end{matrix}\\right]$"
      ],
      "text/plain": [
       "Matrix([\n",
       "[6, 3,  pi],\n",
       "[3, 2, -17],\n",
       "[7, 8,   4]])"
      ]
     },
     "execution_count": 183,
     "metadata": {},
     "output_type": "execute_result"
    }
   ],
   "source": [
    "min_matris = sp.Matrix(my_matrix)\n",
    "\n",
    "# How to swap with SymPy\n",
    "min_matris.row_swap(1,0)\n",
    "\n",
    "min_matris"
   ]
  },
  {
   "cell_type": "code",
   "execution_count": 191,
   "metadata": {},
   "outputs": [
    {
     "data": {
      "text/latex": [
       "$\\displaystyle \\left[\\begin{matrix}3.0 & 1.5 & 0.5 \\pi\\\\3 & 2 & -17\\\\7 & 8 & 4\\end{matrix}\\right]$"
      ],
      "text/plain": [
       "Matrix([\n",
       "[3.0, 1.5, 0.5*pi],\n",
       "[  3,   2,    -17],\n",
       "[  7,   8,      4]])"
      ]
     },
     "execution_count": 191,
     "metadata": {},
     "output_type": "execute_result"
    }
   ],
   "source": [
    "# convert back to NumPy\n",
    "my_matrix = np.array(min_matris)\n",
    "\n",
    "# multiply row 1 by 1/2\n",
    "my_matrix[0] = np.multiply(my_matrix[0],0.5)\n",
    "\n",
    "sp.Matrix(my_matrix)"
   ]
  },
  {
   "cell_type": "code",
   "execution_count": 194,
   "metadata": {},
   "outputs": [
    {
     "data": {
      "text/latex": [
       "$\\displaystyle \\left[\\begin{matrix}1 & -2\\\\0 & 1\\end{matrix}\\right]$"
      ],
      "text/plain": [
       "Matrix([\n",
       "[1, -2],\n",
       "[0,  1]])"
      ]
     },
     "execution_count": 194,
     "metadata": {},
     "output_type": "execute_result"
    }
   ],
   "source": [
    "# Row addition works by multiplying one row in the matrix and then adding it to another row.\n",
    "# For example, in the matrix below, we can multiply row 1 by 4 and add it to row 2:\n",
    "\n",
    "B = np.matrix(\n",
    "    [[1,-2],\n",
    "     [-4,9]])\n",
    "\n",
    "B[1] = B[1]+B[0]*4\n",
    "\n",
    "sp.Matrix(B)"
   ]
  },
  {
   "cell_type": "markdown",
   "metadata": {},
   "source": [
    "---"
   ]
  },
  {
   "cell_type": "code",
   "execution_count": 186,
   "metadata": {},
   "outputs": [
    {
     "name": "stdout",
     "output_type": "stream",
     "text": [
      "[[-2 -8  5 -5]\n",
      " [ 5 -4 -3 -7]\n",
      " [ 6 -8 -2  7]\n",
      " [-1  2  5 -7]]\n",
      "Sum = -17\n",
      "Sum along diagonals = -15\n",
      "[[-0.10591472  0.03163686  0.13480055  0.17881706]\n",
      " [-0.09307657 -0.01765245 -0.00275103  0.08138469]\n",
      " [-0.00962861 -0.08803301  0.10316369  0.19807428]\n",
      " [-0.01834021 -0.07244383  0.05364512 -0.00366804]]\n"
     ]
    }
   ],
   "source": [
    "# with random integers\n",
    "arr3 = np.random.randint(-8,8, size=(4,4))\n",
    "\n",
    "print(arr3)\n",
    "print(f'Sum = {np.sum(arr3)}') # sum\n",
    "print(f'Sum along diagonals = {np.trace(arr3)}')\n",
    "\n",
    "print(np.linalg.inv(arr3))"
   ]
  },
  {
   "cell_type": "code",
   "execution_count": 187,
   "metadata": {},
   "outputs": [
    {
     "data": {
      "text/plain": [
       "array([[-0.10591472,  0.03163686,  0.13480055,  0.17881706],\n",
       "       [-0.09307657, -0.01765245, -0.00275103,  0.08138469],\n",
       "       [-0.00962861, -0.08803301,  0.10316369,  0.19807428],\n",
       "       [-0.01834021, -0.07244383,  0.05364512, -0.00366804]])"
      ]
     },
     "execution_count": 187,
     "metadata": {},
     "output_type": "execute_result"
    }
   ],
   "source": [
    "np.linalg.inv(arr3)"
   ]
  },
  {
   "cell_type": "code",
   "execution_count": 197,
   "metadata": {},
   "outputs": [
    {
     "name": "stdout",
     "output_type": "stream",
     "text": [
      "<class 'numpy.ndarray'> 2\n",
      "[[ 0  1 -2]\n",
      " [ 3  4  5]\n",
      " [ 6  7 -8]]\n",
      "\n",
      "<class 'numpy.ndarray'>\n",
      "(3, 3) 2\n"
     ]
    },
    {
     "data": {
      "text/latex": [
       "$\\displaystyle \\left[\\begin{matrix}0 & 1 & -2\\\\3 & 4 & 5\\\\6 & 7 & -8\\end{matrix}\\right]$"
      ],
      "text/plain": [
       "Matrix([\n",
       "[0, 1, -2],\n",
       "[3, 4,  5],\n",
       "[6, 7, -8]])"
      ]
     },
     "execution_count": 197,
     "metadata": {},
     "output_type": "execute_result"
    }
   ],
   "source": [
    "a = np.array([[0,1,-2],[3,4,5],[6,7,-8]])\n",
    "\n",
    "print(type(a),a.ndim)\n",
    "print(a)\n",
    "print()\n",
    "print(type(a))\n",
    "print(a.shape, a.ndim)\n",
    "\n",
    "sp.Matrix(a)"
   ]
  },
  {
   "cell_type": "code",
   "execution_count": 202,
   "metadata": {},
   "outputs": [
    {
     "data": {
      "text/latex": [
       "$\\displaystyle \\left[\\begin{matrix}6 & 3 & 0\\\\7 & 4 & 1\\\\-8 & 5 & -2\\end{matrix}\\right]$"
      ],
      "text/plain": [
       "Matrix([\n",
       "[ 6, 3,  0],\n",
       "[ 7, 4,  1],\n",
       "[-8, 5, -2]])"
      ]
     },
     "execution_count": 202,
     "metadata": {},
     "output_type": "execute_result"
    }
   ],
   "source": [
    "## 2D vector rotation\n",
    "def rotate_matrix(matrix):\n",
    "  transposed_matrix = [[matrix[j][i] for j in range(len(matrix))] for i in range(len(matrix[0]))]\n",
    "  \n",
    "  # reverse the rows of the transposed matrix\n",
    "  return [row[::-1] for row in transposed_matrix]\n",
    "\n",
    "# rotate the matrix\n",
    "a = rotate_matrix(a)\n",
    "\n",
    "a = np.array(a)\n",
    "\n",
    "sp.Matrix(a)"
   ]
  },
  {
   "cell_type": "code",
   "execution_count": 196,
   "metadata": {},
   "outputs": [
    {
     "data": {
      "text/latex": [
       "$\\displaystyle \\left[\\begin{matrix}6 & 3 & 0\\\\7 & 4 & 1\\\\-8 & 5 & \\pi\\end{matrix}\\right]$"
      ],
      "text/plain": [
       "Matrix([\n",
       "[ 6, 3,  0],\n",
       "[ 7, 4,  1],\n",
       "[-8, 5, pi]])"
      ]
     },
     "execution_count": 196,
     "metadata": {},
     "output_type": "execute_result"
    }
   ],
   "source": [
    "a = sp.Matrix([[ 6,  3,  0],\n",
    "       [ 7,  4,  1],\n",
    "       [-8,  5, pi]])\n",
    "\n",
    "a"
   ]
  },
  {
   "cell_type": "code",
   "execution_count": 221,
   "metadata": {},
   "outputs": [
    {
     "data": {
      "image/png": "[encoded data removed]",
      "text/plain": [
       "<Figure size 640x480 with 1 Axes>"
      ]
     },
     "metadata": {},
     "output_type": "display_data"
    },
    {
     "data": {
      "text/plain": [
       "array([[ 6,  3,  0],\n",
       "       [ 7,  4,  1],\n",
       "       [-8,  5, -2]])"
      ]
     },
     "execution_count": 221,
     "metadata": {},
     "output_type": "execute_result"
    }
   ],
   "source": [
    "import matplotlib.pyplot as plt\n",
    "plt.style.use('dark_background')\n",
    "\n",
    "V = a\n",
    "origin = np.array([[0, 0, 0],[0, 0, 0]]) # origin point\n",
    "\n",
    "plt.quiver(*origin, V[:,0], V[:,1], V[:,2], scale=28)\n",
    "plt.grid()\n",
    "plt.show()\n",
    "\n",
    "V"
   ]
  },
  {
   "cell_type": "code",
   "execution_count": null,
   "metadata": {},
   "outputs": [],
   "source": [
    "def get_rotation_matrix(theta, axis):\n",
    "    \"\"\"\n",
    "    Returns a 3x3 rotation matrix with the given theta and axis\n",
    "    \"\"\"\n",
    "\n",
    "    axis = np.array(axis)\n",
    "    axis = axis / np.linalg.norm(axis)\n",
    "    a = np.cos(theta / 2)\n",
    "    b, c, d = -axis * np.sin(theta / 2)\n",
    "    aa, bb, cc, dd = a * a, b * b, c * c, d * d\n",
    "    bc, ad, ac, ab, bd, cd = b * c, a * d, a * c, a * b, b * d, c * d\n",
    "    return np.array([[aa + bb - cc - dd, 2 * (bc + ad), 2 * (bd - ac)],\n",
    "                     [2 * (bc - ad), aa + cc - bb - dd, 2 * (cd + ab)]])"
   ]
  }
 ],
 "metadata": {
  "kernelspec": {
   "display_name": "Python 3.9.13 ('Linear-Algebra-sWVRNwQg')",
   "language": "python",
   "name": "python3"
  },
  "language_info": {
   "codemirror_mode": {
    "name": "ipython",
    "version": 3
   },
   "file_extension": ".py",
   "mimetype": "text/x-python",
   "name": "python",
   "nbconvert_exporter": "python",
   "pygments_lexer": "ipython3",
   "version": "3.9.13"
  },
  "orig_nbformat": 4,
  "vscode": {
   "interpreter": {
    "hash": "11fca5e6217423e13244e65ebf43056cec8f9567c51fe1f87ab03b5c5982a15f"
   }
  }
 },
 "nbformat": 4,
 "nbformat_minor": 2
}
