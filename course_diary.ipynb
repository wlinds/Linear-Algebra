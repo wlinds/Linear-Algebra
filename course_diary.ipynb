{
 "cells": [
  {
   "cell_type": "markdown",
   "metadata": {},
   "source": [
    "### Linear systems of equations\n",
    "- augmented matrix (utökad matris).\n",
    "- Gaussian elimination\n",
    "- reduced row echelon form (reducerad trappstegsform)\n",
    "- pivot columns, bound and free varibles\n",
    "\n",
    "- sympy.rref\n",
    "- scipy.linalg.solve"
   ]
  },
  {
   "cell_type": "code",
   "execution_count": 1,
   "metadata": {},
   "outputs": [
    {
     "name": "stdout",
     "output_type": "stream",
     "text": [
      "<class 'numpy.ndarray'> 3\n"
     ]
    },
    {
     "data": {
      "text/plain": [
       "array([[[ 0,  1,  2],\n",
       "        [ 3,  4,  5],\n",
       "        [ 6,  7,  8]],\n",
       "\n",
       "       [[-1, -2, -3],\n",
       "        [-4, -5, -6],\n",
       "        [-7, -8, -9]],\n",
       "\n",
       "       [[ 1,  2,  3],\n",
       "        [ 4,  5,  6],\n",
       "        [ 7,  8,  9]]])"
      ]
     },
     "execution_count": 1,
     "metadata": {},
     "output_type": "execute_result"
    }
   ],
   "source": [
    "import numpy as np\n",
    "\n",
    "# Three dimensional array\n",
    "\n",
    "a = np.array([[[0,1,2],[3,4,5],[6,7,8]],\n",
    "              [[-1,-2,-3],[-4,-5,-6],[-7,-8,-9]],\n",
    "              [[1,2,3],[4,5,6],[7,8,9]]])\n",
    "\n",
    "print(type(a),a.ndim)\n",
    "a"
   ]
  },
  {
   "cell_type": "code",
   "execution_count": 2,
   "metadata": {},
   "outputs": [
    {
     "name": "stdout",
     "output_type": "stream",
     "text": [
      "<class 'numpy.ndarray'> 2 27 (3, 9)\n"
     ]
    },
    {
     "data": {
      "text/plain": [
       "array([[ 0,  1,  2,  3,  4,  5,  6,  7,  8],\n",
       "       [-1, -2, -3, -4, -5, -6, -7, -8, -9],\n",
       "       [ 1,  2,  3,  4,  5,  6,  7,  8,  9]])"
      ]
     },
     "execution_count": 2,
     "metadata": {},
     "output_type": "execute_result"
    }
   ],
   "source": [
    "# Convert 3D array to 2D\n",
    "a2d = np.reshape(a, (3,9))\n",
    "\n",
    "print(type(a2d), a2d.ndim, a2d.size, a2d.shape)\n",
    "a2d"
   ]
  },
  {
   "cell_type": "markdown",
   "metadata": {},
   "source": [
    "ndarrays are immutable, as such we cannot remove elements, however we can create new arrays\n",
    "\n",
    "numpy.linalg.solve requires A to be square:\n",
    "\n",
    " A * X = B, where A is a square matrix and X and B are rectangular matrices or vectors.\n",
    " \n",
    " Gaussian elimination with row interchanges is used to factor A as A = P * L * U , where\n",
    " - P = permutation matrix\n",
    " - L = unit lower triangular\n",
    " - U = is upper triangular.\n",
    " \n",
    " The factored form of A is then used to solve the above system.\n",
    "\n",
    " ---\n",
    "\n",
    " Let's create a square matrix and do some basic operations:"
   ]
  },
  {
   "cell_type": "code",
   "execution_count": 38,
   "metadata": {},
   "outputs": [
    {
     "data": {
      "text/plain": [
       "matrix([[  3.        ,   2.        , -17.        ],\n",
       "        [  7.        ,   8.        ,   4.        ],\n",
       "        [  6.        ,   3.        ,   3.14159265]])"
      ]
     },
     "execution_count": 38,
     "metadata": {},
     "output_type": "execute_result"
    }
   ],
   "source": [
    "from math import pi\n",
    "\n",
    "my_matrix = np.matrix(\n",
    "    [[3,  2,  -17],\n",
    "     [7,  8,    4],\n",
    "     [6,  3,   pi]\n",
    "])\n",
    "\n",
    "my_matrix"
   ]
  },
  {
   "cell_type": "code",
   "execution_count": 4,
   "metadata": {},
   "outputs": [
    {
     "data": {
      "text/plain": [
       "matrix([[  3.        ,   2.        , -17.        ],\n",
       "        [  6.        ,   3.        ,   3.14159265],\n",
       "        [  7.        ,   8.        ,   4.        ]])"
      ]
     },
     "execution_count": 4,
     "metadata": {},
     "output_type": "execute_result"
    }
   ],
   "source": [
    "# swap rows by reassigning index\n",
    "my_matrix[[2,1]] = my_matrix[[1,2]]\n",
    "\n",
    "my_matrix"
   ]
  },
  {
   "cell_type": "code",
   "execution_count": 5,
   "metadata": {},
   "outputs": [
    {
     "data": {
      "text/plain": [
       "matrix([[  3.        ,   2.        , -17.        ],\n",
       "        [  6.        ,   3.        ,   3.14159265],\n",
       "        [  3.5       ,   4.        ,   2.        ]])"
      ]
     },
     "execution_count": 5,
     "metadata": {},
     "output_type": "execute_result"
    }
   ],
   "source": [
    "# multiply row 3 by 1/2\n",
    "my_matrix[2] = np.multiply(my_matrix[2],0.5)\n",
    "\n",
    "my_matrix"
   ]
  },
  {
   "cell_type": "code",
   "execution_count": 6,
   "metadata": {},
   "outputs": [
    {
     "data": {
      "text/plain": [
       "matrix([[ 1, -2],\n",
       "        [ 0,  1]])"
      ]
     },
     "execution_count": 6,
     "metadata": {},
     "output_type": "execute_result"
    }
   ],
   "source": [
    "# Row addition works by multiplying one row in the matrix and then adding it to another row.\n",
    "# For example, in the matrix below, we can multiply row 1 by 4 and add it to row 2:\n",
    "\n",
    "B = np.matrix(\n",
    "    [[1,-2],\n",
    "     [-4,9]])\n",
    "\n",
    "B[1] = B[1]+B[0]*4\n",
    "\n",
    "B"
   ]
  },
  {
   "cell_type": "markdown",
   "metadata": {},
   "source": [
    "---"
   ]
  },
  {
   "cell_type": "code",
   "execution_count": 7,
   "metadata": {},
   "outputs": [
    {
     "name": "stdout",
     "output_type": "stream",
     "text": [
      "[[ 7  1 -3  0]\n",
      " [ 6  6  6 -2]\n",
      " [ 6 -5 -4  4]\n",
      " [ 3 -6 -8  0]]\n",
      "Sum = 11\n",
      "Sum along diagonals = 9\n",
      "[[-0.01603206  0.10420842  0.05210421  0.05811623]\n",
      " [ 0.33667335 -0.18837675 -0.09418838 -0.22044088]\n",
      " [-0.25851703  0.18036072  0.09018036  0.06212425]\n",
      " [ 0.18637275 -0.21142285  0.14428858 -0.3006012 ]]\n"
     ]
    }
   ],
   "source": [
    "# with random integers\n",
    "arr3 = np.random.randint(-8,8, size=(4,4))\n",
    "\n",
    "print(arr3)\n",
    "print(f'Sum = {np.sum(arr3)}') # sum\n",
    "print(f'Sum along diagonals = {np.trace(arr3)}')\n",
    "\n",
    "print(np.linalg.inv(arr3))"
   ]
  },
  {
   "cell_type": "code",
   "execution_count": 8,
   "metadata": {},
   "outputs": [
    {
     "data": {
      "text/plain": [
       "array([[-0.01603206,  0.10420842,  0.05210421,  0.05811623],\n",
       "       [ 0.33667335, -0.18837675, -0.09418838, -0.22044088],\n",
       "       [-0.25851703,  0.18036072,  0.09018036,  0.06212425],\n",
       "       [ 0.18637275, -0.21142285,  0.14428858, -0.3006012 ]])"
      ]
     },
     "execution_count": 8,
     "metadata": {},
     "output_type": "execute_result"
    }
   ],
   "source": [
    "np.linalg.inv(arr3)"
   ]
  },
  {
   "cell_type": "code",
   "execution_count": 104,
   "metadata": {},
   "outputs": [
    {
     "name": "stdout",
     "output_type": "stream",
     "text": [
      "<class 'numpy.ndarray'> 2\n",
      "[[0 1 2]\n",
      " [3 4 5]\n",
      " [6 7 8]]\n",
      "\n",
      "<class 'numpy.ndarray'>\n",
      "(3, 3) 2\n"
     ]
    }
   ],
   "source": [
    "a = np.array([[0,1,2],[3,4,5],[6,7,8]])\n",
    "\n",
    "print(type(a),a.ndim)\n",
    "print(a)\n",
    "print()\n",
    "print(type(a))\n",
    "print(a.shape, a.ndim)"
   ]
  },
  {
   "cell_type": "code",
   "execution_count": 137,
   "metadata": {},
   "outputs": [
    {
     "data": {
      "text/plain": [
       "array([[6, 3, 0],\n",
       "       [7, 4, 1],\n",
       "       [8, 5, 2]])"
      ]
     },
     "execution_count": 137,
     "metadata": {},
     "output_type": "execute_result"
    }
   ],
   "source": [
    "## 2D vector rotation\n",
    "def rotate_matrix(matrix):\n",
    "  transposed_matrix = [[matrix[j][i] for j in range(len(matrix))] for i in range(len(matrix[0]))]\n",
    "  \n",
    "  # reverse the rows of the transposed matrix\n",
    "  return [row[::-1] for row in transposed_matrix]\n",
    "\n",
    "# rotate the matrix\n",
    "a = rotate_matrix(a)\n",
    "\n",
    "a = np.array(a)\n",
    "\n",
    "a"
   ]
  },
  {
   "cell_type": "code",
   "execution_count": 10,
   "metadata": {},
   "outputs": [],
   "source": [
    "def get_rotation_matrix(theta, axis):\n",
    "    \"\"\"\n",
    "    Returns a 3x3 rotation matrix with the given theta and axis\n",
    "    \"\"\"\n",
    "\n",
    "    axis = np.array(axis)\n",
    "    axis = axis / np.linalg.norm(axis)\n",
    "    a = np.cos(theta / 2)\n",
    "    b, c, d = -axis * np.sin(theta / 2)\n",
    "    aa, bb, cc, dd = a * a, b * b, c * c, d * d\n",
    "    bc, ad, ac, ab, bd, cd = b * c, a * d, a * c, a * b, b * d, c * d\n",
    "    return np.array([[aa + bb - cc - dd, 2 * (bc + ad), 2 * (bd - ac)],\n",
    "                     [2 * (bc - ad), aa + cc - bb - dd, 2 * (cd + ab)]])"
   ]
  }
 ],
 "metadata": {
  "kernelspec": {
   "display_name": "Python 3.9.13 ('Linear-Algebra-sWVRNwQg')",
   "language": "python",
   "name": "python3"
  },
  "language_info": {
   "codemirror_mode": {
    "name": "ipython",
    "version": 3
   },
   "file_extension": ".py",
   "mimetype": "text/x-python",
   "name": "python",
   "nbconvert_exporter": "python",
   "pygments_lexer": "ipython3",
   "version": "3.9.13"
  },
  "orig_nbformat": 4,
  "vscode": {
   "interpreter": {
    "hash": "11fca5e6217423e13244e65ebf43056cec8f9567c51fe1f87ab03b5c5982a15f"
   }
  }
 },
 "nbformat": 4,
 "nbformat_minor": 2
}
